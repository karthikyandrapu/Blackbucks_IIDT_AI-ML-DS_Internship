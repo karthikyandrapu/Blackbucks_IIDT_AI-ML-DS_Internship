{
  "nbformat": 4,
  "nbformat_minor": 0,
  "metadata": {
    "colab": {
      "provenance": [],
      "mount_file_id": "1kgEAnVOWI9MZkJ56TAr1PfYYBZQhJsgQ",
      "authorship_tag": "ABX9TyN+vO/NeqmQmNLqPdgmQfm+",
      "include_colab_link": true
    },
    "kernelspec": {
      "name": "python3",
      "display_name": "Python 3"
    },
    "language_info": {
      "name": "python"
    }
  },
  "cells": [
    {
      "cell_type": "markdown",
      "metadata": {
        "id": "view-in-github",
        "colab_type": "text"
      },
      "source": [
        "<a href=\"https://colab.research.google.com/github/karthikyandrapu/Blackbucks_IIDT_AI-ML-DS_Internship/blob/main/Credit_Card_Fraud_Detection.ipynb\" target=\"_parent\"><img src=\"https://colab.research.google.com/assets/colab-badge.svg\" alt=\"Open In Colab\"/></a>"
      ]
    },
    {
      "cell_type": "markdown",
      "source": [
        "**Credit Card Fraud Detection**"
      ],
      "metadata": {
        "id": "5TTy_Yp3-s4l"
      }
    },
    {
      "cell_type": "markdown",
      "source": [
        "Data Preprocessing"
      ],
      "metadata": {
        "id": "6PkKoCVE_D9A"
      }
    },
    {
      "cell_type": "code",
      "execution_count": null,
      "metadata": {
        "id": "B2l74K-q-B8P"
      },
      "outputs": [],
      "source": [
        "import pandas as pd\n",
        "from sklearn.preprocessing import StandardScaler\n",
        "\n",
        "# Load the dataset\n",
        "df = pd.read_csv('/content/drive/MyDrive/ML/creditcard.csv')\n",
        "\n",
        "# Perform EDA (Exploratory Data Analysis)\n",
        "print(df.head())\n",
        "print(df.describe())\n",
        "\n",
        "# Normalize or standardize the data\n",
        "scaler = StandardScaler()\n",
        "df['Amount'] = scaler.fit_transform(df['Amount'].values.reshape(-1, 1))"
      ]
    },
    {
      "cell_type": "markdown",
      "source": [
        "Feature Engineering"
      ],
      "metadata": {
        "id": "Whd4f8bT_IoE"
      }
    },
    {
      "cell_type": "code",
      "source": [
        "# Feature selection\n",
        "X = df.drop(['Time', 'Class'], axis=1)\n",
        "y = df['Class']\n",
        "\n",
        "# Dimensionality reduction\n",
        "from sklearn.decomposition import PCA\n",
        "\n",
        "pca = PCA(n_components=10)\n",
        "X_pca = pca.fit_transform(X)"
      ],
      "metadata": {
        "id": "dn_3JJU5-P1r"
      },
      "execution_count": null,
      "outputs": []
    },
    {
      "cell_type": "markdown",
      "source": [
        "Model Selection"
      ],
      "metadata": {
        "id": "0jdwb2UY_UIq"
      }
    },
    {
      "cell_type": "code",
      "source": [
        "# Choose appropriate machine learning algorithms\n",
        "from sklearn.ensemble import RandomForestClassifier\n",
        "\n",
        "model = RandomForestClassifier()"
      ],
      "metadata": {
        "id": "kEVUoVHN-Vyb"
      },
      "execution_count": null,
      "outputs": []
    },
    {
      "cell_type": "markdown",
      "source": [
        "Model Training"
      ],
      "metadata": {
        "id": "4JZclHk0_bWL"
      }
    },
    {
      "cell_type": "code",
      "source": [
        "from sklearn.model_selection import train_test_split\n",
        "\n",
        "# Split the data into training and testing sets\n",
        "X_train, X_test, y_train, y_test = train_test_split(X_pca, y, test_size=0.2, random_state=42)\n",
        "\n",
        "# Train the selected model\n",
        "model.fit(X_train, y_train)\n",
        "\n",
        "# Tune hyperparameters (GridSearchCV)\n",
        "from sklearn.model_selection import GridSearchCV\n",
        "\n",
        "param_grid = {\n",
        "    'n_estimators': [50, 100, 200],\n",
        "    'max_depth': [None, 10, 20],\n",
        "    'min_samples_split': [2, 5, 10]\n",
        "}\n",
        "\n",
        "grid_search = GridSearchCV(estimator=model, param_grid=param_grid, cv=3, scoring='roc_auc')\n",
        "grid_search.fit(X_train, y_train)\n",
        "\n",
        "best_model = grid_search.best_estimator_"
      ],
      "metadata": {
        "id": "m6cJiHou-X6V"
      },
      "execution_count": null,
      "outputs": []
    },
    {
      "cell_type": "markdown",
      "source": [
        "Model Evaluation"
      ],
      "metadata": {
        "id": "G6a4O1Ht_pAh"
      }
    },
    {
      "cell_type": "code",
      "source": [
        "# Evaluate model performance using appropriate metrics\n",
        "from sklearn.metrics import classification_report, confusion_matrix, roc_auc_score\n",
        "from sklearn.model_selection import cross_val_score\n",
        "\n",
        "# Evaluation on test set\n",
        "y_pred = best_model.predict(X_test)\n",
        "print(confusion_matrix(y_test, y_pred))\n",
        "print(classification_report(y_test, y_pred))\n",
        "print('ROC AUC Score:', roc_auc_score(y_test, y_pred))\n",
        "\n",
        "# Cross-validation for robustness check\n",
        "cv_scores = cross_val_score(best_model, X_train, y_train, cv=5, scoring='roc_auc')\n",
        "print('Cross-validation ROC AUC:', cv_scores.mean())"
      ],
      "metadata": {
        "id": "0IeLT1Lg-akm"
      },
      "execution_count": null,
      "outputs": []
    },
    {
      "cell_type": "markdown",
      "source": [
        "Model Deployment"
      ],
      "metadata": {
        "id": "PZH1iBbf_yq_"
      }
    },
    {
      "cell_type": "code",
      "source": [
        "# Save the trained model\n",
        "import joblib\n",
        "\n",
        "joblib.dump(best_model, 'credit_card_fraud_detection_model.pkl')\n",
        "\n",
        "# Deploy the model using a web framework (Flask)\n",
        "from flask import Flask, jsonify, request\n",
        "import joblib\n",
        "\n",
        "app = Flask(__name__)\n",
        "model = joblib.load('credit_card_fraud_detection_model.pkl')\n",
        "\n",
        "@app.route('/predict', methods=['POST'])\n",
        "def predict():\n",
        "    data = request.get_json(force=True)\n",
        "    features = [data['feature1'], data['feature2'], ...]\n",
        "    prediction = model.predict([features])\n",
        "    return jsonify({'prediction': int(prediction[0])})\n",
        "\n",
        "if __name__ == '__main__':\n",
        "    app.run(debug=True)"
      ],
      "metadata": {
        "id": "2vcbe9qn-c4M"
      },
      "execution_count": null,
      "outputs": []
    }
  ]
}